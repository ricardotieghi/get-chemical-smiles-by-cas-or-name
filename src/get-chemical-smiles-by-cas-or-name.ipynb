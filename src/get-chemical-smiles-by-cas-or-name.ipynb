{
 "cells": [
  {
   "cell_type": "markdown",
   "metadata": {},
   "source": [
    "# Use the library cirpy\n",
    "Ref: https://github.com/mcs07/CIRpy"
   ]
  },
  {
   "cell_type": "markdown",
   "metadata": {},
   "source": [
    "# MY EDIT"
   ]
  },
  {
   "cell_type": "code",
   "execution_count": 25,
   "metadata": {},
   "outputs": [],
   "source": [
    "import cirpy\n",
    "import pandas as pd\n",
    "import numpy as np\n",
    "\n",
    "# Load your data from the Excel file\n",
    "data = pd.read_excel(\"C:\\\\Users\\\\ricar\\\\Documents\\MML\\\\DASS Me TOo Similarity Search\\\\ppt_df.xlsx\", sheet_name=\"Sheet1\")\n",
    "\n",
    "# Create empty lists to store CAS numbers and SMILES notations\n",
    "CASes = []\n",
    "SMILES = []\n",
    "\n",
    "# Iterate through CAS numbers in the dataframe\n",
    "for CASRN in data[\"CASRN\"]:\n",
    "    # Resolve the CAS number to SMILES notation using cirpy\n",
    "    try:\n",
    "        smiles = cirpy.resolve(CASRN, 'smiles')\n",
    "        CASes.append(CASRN)\n",
    "        SMILES.append(smiles)\n",
    "    except Exception as e:\n",
    "        # Handle exceptions if CAS number cannot be resolved\n",
    "        print(f\"Error resolving CAS {CAS}: {str(e)}\")\n",
    "\n",
    "# Create a DataFrame with CAS and SMILES columns\n",
    "result_df = pd.DataFrame({'CAS': CASes, 'SMILES': SMILES})\n",
    "\n",
    "# Save the DataFrame to an Excel file\n",
    "result_df.to_excel(\"C:\\\\Users\\\\ricar\\\\Documents\\MML\\\\DASS Me TOo Similarity Search\\\\ppt_df_smiles.xlsx\", index=False)\n"
   ]
  },
  {
   "cell_type": "code",
   "execution_count": 6,
   "metadata": {},
   "outputs": [
    {
     "ename": "KeyError",
     "evalue": "'CAS'",
     "output_type": "error",
     "traceback": [
      "\u001b[1;31m---------------------------------------------------------------------------\u001b[0m",
      "\u001b[1;31mKeyError\u001b[0m                                  Traceback (most recent call last)",
      "File \u001b[1;32mc:\\Users\\ricar\\anaconda3\\envs\\modelling-env\\lib\\site-packages\\pandas\\core\\indexes\\base.py:3802\u001b[0m, in \u001b[0;36mIndex.get_loc\u001b[1;34m(self, key, method, tolerance)\u001b[0m\n\u001b[0;32m   3801\u001b[0m \u001b[39mtry\u001b[39;00m:\n\u001b[1;32m-> 3802\u001b[0m     \u001b[39mreturn\u001b[39;00m \u001b[39mself\u001b[39;49m\u001b[39m.\u001b[39;49m_engine\u001b[39m.\u001b[39;49mget_loc(casted_key)\n\u001b[0;32m   3803\u001b[0m \u001b[39mexcept\u001b[39;00m \u001b[39mKeyError\u001b[39;00m \u001b[39mas\u001b[39;00m err:\n",
      "File \u001b[1;32mc:\\Users\\ricar\\anaconda3\\envs\\modelling-env\\lib\\site-packages\\pandas\\_libs\\index.pyx:138\u001b[0m, in \u001b[0;36mpandas._libs.index.IndexEngine.get_loc\u001b[1;34m()\u001b[0m\n",
      "File \u001b[1;32mc:\\Users\\ricar\\anaconda3\\envs\\modelling-env\\lib\\site-packages\\pandas\\_libs\\index.pyx:165\u001b[0m, in \u001b[0;36mpandas._libs.index.IndexEngine.get_loc\u001b[1;34m()\u001b[0m\n",
      "File \u001b[1;32mpandas\\_libs\\hashtable_class_helper.pxi:5745\u001b[0m, in \u001b[0;36mpandas._libs.hashtable.PyObjectHashTable.get_item\u001b[1;34m()\u001b[0m\n",
      "File \u001b[1;32mpandas\\_libs\\hashtable_class_helper.pxi:5753\u001b[0m, in \u001b[0;36mpandas._libs.hashtable.PyObjectHashTable.get_item\u001b[1;34m()\u001b[0m\n",
      "\u001b[1;31mKeyError\u001b[0m: 'CAS'",
      "\nThe above exception was the direct cause of the following exception:\n",
      "\u001b[1;31mKeyError\u001b[0m                                  Traceback (most recent call last)",
      "Cell \u001b[1;32mIn[6], line 7\u001b[0m\n\u001b[0;32m      5\u001b[0m data \u001b[39m=\u001b[39m pd\u001b[39m.\u001b[39mread_excel(\u001b[39m\"\u001b[39m\u001b[39mC:\u001b[39m\u001b[39m\\\\\u001b[39;00m\u001b[39mUsers\u001b[39m\u001b[39m\\\\\u001b[39;00m\u001b[39mricar\u001b[39m\u001b[39m\\\\\u001b[39;00m\u001b[39mDocuments\u001b[39m\u001b[39m\\\u001b[39m\u001b[39mMML\u001b[39m\u001b[39m\\\\\u001b[39;00m\u001b[39mDASS Me TOo Similarity Search\u001b[39m\u001b[39m\\\\\u001b[39;00m\u001b[39mppt_df.xlsx\u001b[39m\u001b[39m\"\u001b[39m, sheet_name \u001b[39m=\u001b[39m \u001b[39m\"\u001b[39m\u001b[39mSheet1\u001b[39m\u001b[39m\"\u001b[39m)\n\u001b[0;32m      6\u001b[0m CASes \u001b[39m=\u001b[39m []\n\u001b[1;32m----> 7\u001b[0m identifiers \u001b[39m=\u001b[39m data[\u001b[39m\"\u001b[39;49m\u001b[39mCAS\u001b[39;49m\u001b[39m\"\u001b[39;49m]\u001b[39m.\u001b[39mvalues\n\u001b[0;32m      8\u001b[0m \u001b[39mfor\u001b[39;00m CAS \u001b[39min\u001b[39;00m identifiers:\n\u001b[0;32m      9\u001b[0m     CASes \u001b[39m+\u001b[39m\u001b[39m=\u001b[39m [CAS, cirpy\u001b[39m.\u001b[39mresolve(CAS, \u001b[39m'\u001b[39m\u001b[39msmiles\u001b[39m\u001b[39m'\u001b[39m)]\n",
      "File \u001b[1;32mc:\\Users\\ricar\\anaconda3\\envs\\modelling-env\\lib\\site-packages\\pandas\\core\\frame.py:3807\u001b[0m, in \u001b[0;36mDataFrame.__getitem__\u001b[1;34m(self, key)\u001b[0m\n\u001b[0;32m   3805\u001b[0m \u001b[39mif\u001b[39;00m \u001b[39mself\u001b[39m\u001b[39m.\u001b[39mcolumns\u001b[39m.\u001b[39mnlevels \u001b[39m>\u001b[39m \u001b[39m1\u001b[39m:\n\u001b[0;32m   3806\u001b[0m     \u001b[39mreturn\u001b[39;00m \u001b[39mself\u001b[39m\u001b[39m.\u001b[39m_getitem_multilevel(key)\n\u001b[1;32m-> 3807\u001b[0m indexer \u001b[39m=\u001b[39m \u001b[39mself\u001b[39;49m\u001b[39m.\u001b[39;49mcolumns\u001b[39m.\u001b[39;49mget_loc(key)\n\u001b[0;32m   3808\u001b[0m \u001b[39mif\u001b[39;00m is_integer(indexer):\n\u001b[0;32m   3809\u001b[0m     indexer \u001b[39m=\u001b[39m [indexer]\n",
      "File \u001b[1;32mc:\\Users\\ricar\\anaconda3\\envs\\modelling-env\\lib\\site-packages\\pandas\\core\\indexes\\base.py:3804\u001b[0m, in \u001b[0;36mIndex.get_loc\u001b[1;34m(self, key, method, tolerance)\u001b[0m\n\u001b[0;32m   3802\u001b[0m     \u001b[39mreturn\u001b[39;00m \u001b[39mself\u001b[39m\u001b[39m.\u001b[39m_engine\u001b[39m.\u001b[39mget_loc(casted_key)\n\u001b[0;32m   3803\u001b[0m \u001b[39mexcept\u001b[39;00m \u001b[39mKeyError\u001b[39;00m \u001b[39mas\u001b[39;00m err:\n\u001b[1;32m-> 3804\u001b[0m     \u001b[39mraise\u001b[39;00m \u001b[39mKeyError\u001b[39;00m(key) \u001b[39mfrom\u001b[39;00m \u001b[39merr\u001b[39;00m\n\u001b[0;32m   3805\u001b[0m \u001b[39mexcept\u001b[39;00m \u001b[39mTypeError\u001b[39;00m:\n\u001b[0;32m   3806\u001b[0m     \u001b[39m# If we have a listlike key, _check_indexing_error will raise\u001b[39;00m\n\u001b[0;32m   3807\u001b[0m     \u001b[39m#  InvalidIndexError. Otherwise we fall through and re-raise\u001b[39;00m\n\u001b[0;32m   3808\u001b[0m     \u001b[39m#  the TypeError.\u001b[39;00m\n\u001b[0;32m   3809\u001b[0m     \u001b[39mself\u001b[39m\u001b[39m.\u001b[39m_check_indexing_error(key)\n",
      "\u001b[1;31mKeyError\u001b[0m: 'CAS'"
     ]
    }
   ],
   "source": [
    "# Get smiles based on chemical CAS number\n",
    "import cirpy\n",
    "import pandas as pd\n",
    "\n",
    "data = pd.read_excel(\"C:\\\\Users\\\\ricar\\\\Documents\\MML\\\\DASS Me TOo Similarity Search\\\\ppt_df.xlsx\", sheet_name = \"Sheet1\")\n",
    "CASes = []\n",
    "identifiers = data[\"CAS\"].values\n",
    "for CAS in identifiers:\n",
    "    CASes += [CAS, cirpy.resolve(CAS, 'smiles')]\n",
    "New = np.array(CASes).reshape(-1,2)\n",
    "PD = pd.DataFrame(New)\n",
    "PD.to_excel(\"smiles.xlsx\")"
   ]
  },
  {
   "cell_type": "code",
   "execution_count": null,
   "metadata": {},
   "outputs": [],
   "source": [
    "## Get smiles based on chemical name\n",
    "import cirpy\n",
    "data = pd.read_excel(\"Data.xlsx\", sheet_name = \"Sheet1\")\n",
    "names = []\n",
    "identifiers = data[\"Name\"].values\n",
    "for name in identifiers:\n",
    "    names += [name, cirpy.resolve(name, 'smiles')]\n",
    "New = np.array(names).reshape(-1, 2)\n",
    "PD = pd.DataFrame(New)\n",
    "PD.to_excel(\"smiles.xlsx\")"
   ]
  },
  {
   "cell_type": "markdown",
   "metadata": {},
   "source": [
    "# Use the website http://cactus.nci.nih.gov/"
   ]
  },
  {
   "cell_type": "code",
   "execution_count": null,
   "metadata": {},
   "outputs": [],
   "source": [
    "import pandas as pd\n",
    "import numpy as np\n",
    "from urllib.request import urlopen\n",
    "\n",
    "\n",
    "def CIRconvert(ids):\n",
    "    try:\n",
    "        url = 'http://cactus.nci.nih.gov/chemical/structure/' + ids + '/smiles'\n",
    "        ans = urlopen(url).read().decode('utf8')\n",
    "        return ans\n",
    "    except:\n",
    "        return 'Did not work'\n",
    "\n",
    "\n",
    "data = pd.read_excel(\"Data.xlsx\", sheet_name=\"Sheet1\")\n",
    "CASes = []\n",
    "identifiers = data[\"CAS\"].values\n",
    "for CAS in identifiers:\n",
    "    CASes += [CAS,CIRconvert(CAS)]\n",
    "    New = np.array(CASes).reshape(-1, 2)\n",
    "    PD = pd.DataFrame(New)\n",
    "PD.to_excel(\"smiles.xlsx\", index=False)"
   ]
  },
  {
   "cell_type": "markdown",
   "metadata": {},
   "source": [
    "# Use the website https://echa.europa.eu/"
   ]
  },
  {
   "cell_type": "code",
   "execution_count": null,
   "metadata": {},
   "outputs": [],
   "source": [
    "import selenium.webdriver as webdriver\n",
    "from selenium.webdriver.common.action_chains import ActionChains\n",
    "from webdriver_manager.chrome import ChromeDriverManager\n",
    "import pandas as pd\n",
    "import numpy as np\n",
    "import re\n",
    "from urllib.request import urlopen\n",
    "\n",
    "\n",
    "def get_results(CAS):\n",
    "    url = \"https://echa.europa.eu/advanced-search-for-chemicals?p_p_id=dissadvancedsearch_WAR_disssearchportlet&p_p_lifecycle=0&p_p_col_id=column-1&p_p_col_count=1\"\n",
    "    driver = webdriver.Chrome(ChromeDriverManager().install())\n",
    "    driver.get(url)\n",
    "    search_box = driver.find_element_by_xpath('//*[@id=\"_dissadvancedsearch_WAR_disssearchportlet_casNumber\"]')\n",
    "    search_box.send_keys(CAS)\n",
    "    search_box.submit()\n",
    "    driver.implicitly_wait(100)\n",
    "    terms = driver.find_element_by_xpath('//*[@id=\"_viewsubstances_WAR_echarevsubstanceportlet_acceptDisclaimerButton\"]')\n",
    "    if terms == True:\n",
    "        ActionChains(driver).move_to_element(terms).click().perform()\n",
    "        driver.implicitly_wait(100)\n",
    "    try:\n",
    "        driver.find_element_by_xpath('//*[@id=\"_dissadvancedsearch_WAR_disssearchportlet_rmlSearchResultVOsSearchContainerSearchContainer\"]/table/tbody/tr[1]/td[4]/a')\n",
    "        links = driver.find_element_by_xpath('//*[@id=\"_dissadvancedsearch_WAR_disssearchportlet_rmlSearchResultVOsSearchContainerSearchContainer\"]/table/tbody/tr[1]/td[4]/a')\n",
    "        href = links.get_attribute(\"href\")\n",
    "        website = urlopen(href).read().decode('utf8')\n",
    "        if re.search(r\"SMILES:</span> </dt> <dd>[^<]+</dd>\", website):\n",
    "            details = re.search(r\"SMILES:</span> </dt> <dd>[^<]+</dd>\", website)\n",
    "            details = details.group(0)\n",
    "            smiles = details[details.find('<dd>') + 4: -5]\n",
    "            driver.close()\n",
    "            return smiles\n",
    "        else:\n",
    "            return 'No results found'\n",
    "    except:\n",
    "        driver.close()\n",
    "        return 'No results found'\n",
    "\n",
    "\n",
    "data = pd.read_excel(\"Data.xlsx\", sheet_name = \"Sheet1\")\n",
    "CASes = []\n",
    "identifiers = data[\"CAS\"].values\n",
    "for CAS in identifiers:\n",
    "    CASes += [CAS,get_results(CAS)]\n",
    "    New = np.array(CASes).reshape(-1, 2)\n",
    "    PD = pd.DataFrame(New)\n",
    "    PD.to_excel(\"smiles.xlsx\")"
   ]
  },
  {
   "cell_type": "markdown",
   "metadata": {},
   "source": [
    "# Use the website http://www.ambinter.com/"
   ]
  },
  {
   "cell_type": "code",
   "execution_count": null,
   "metadata": {},
   "outputs": [],
   "source": [
    "from urllib.request import urlopen\n",
    "from selenium import webdriver\n",
    "\n",
    "def get_results(CAS):\n",
    "    url = \"http://www.ambinter.com/search/\"\n",
    "    driver = webdriver.Chrome(ChromeDriverManager().install())\n",
    "    driver.get(url)\n",
    "    search_box = driver.find_element_by_id(\"quick_search_input\")\n",
    "    search_box.send_keys(CAS)\n",
    "    search_box.submit()\n",
    "    try:\n",
    "        links = driver.find_elements_by_xpath('//*[@id=\"resultArea\"]/div[2]/div/table/tbody/tr/td[1]/a')\n",
    "        href = links[0].get_attribute(\"href\")\n",
    "        website = urlopen(href).read().decode('utf8')\n",
    "        details = re.search(r'<th>Smiles</th><td>.*', website)\n",
    "        details = details.group(0)\n",
    "        smiles = details[details.find('</th><td>') + 9: -5]\n",
    "        driver.close()\n",
    "        return smiles\n",
    "\n",
    "    except:\n",
    "        driver.close()\n",
    "        return 'No results found'\n",
    "\n",
    "\n",
    "data = pd.read_excel(\"Data.xlsx\", sheet_name = \"Sheet1\")\n",
    "CASes = []\n",
    "identifiers = data[\"CAS\"].values\n",
    "for CAS in identifiers:\n",
    "    CASes += [CAS, get_results(CAS)]\n",
    "    New = np.array(CASes).reshape(-1, 2)\n",
    "    PD = pd.DataFrame(New)\n",
    "    PD.to_excel(\"smiles.xlsx\")\n"
   ]
  }
 ],
 "metadata": {
  "kernelspec": {
   "display_name": "Python 3",
   "language": "python",
   "name": "python3"
  },
  "language_info": {
   "codemirror_mode": {
    "name": "ipython",
    "version": 3
   },
   "file_extension": ".py",
   "mimetype": "text/x-python",
   "name": "python",
   "nbconvert_exporter": "python",
   "pygments_lexer": "ipython3",
   "version": "3.10.12"
  },
  "varInspector": {
   "cols": {
    "lenName": 16,
    "lenType": 16,
    "lenVar": 40
   },
   "kernels_config": {
    "python": {
     "delete_cmd_postfix": "",
     "delete_cmd_prefix": "del ",
     "library": "var_list.py",
     "varRefreshCmd": "print(var_dic_list())"
    },
    "r": {
     "delete_cmd_postfix": ") ",
     "delete_cmd_prefix": "rm(",
     "library": "var_list.r",
     "varRefreshCmd": "cat(var_dic_list()) "
    }
   },
   "types_to_exclude": [
    "module",
    "function",
    "builtin_function_or_method",
    "instance",
    "_Feature"
   ],
   "window_display": false
  }
 },
 "nbformat": 4,
 "nbformat_minor": 4
}
